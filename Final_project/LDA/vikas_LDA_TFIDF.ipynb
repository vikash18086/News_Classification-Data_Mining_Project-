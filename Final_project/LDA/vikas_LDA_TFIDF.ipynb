{
 "cells": [
  {
   "cell_type": "code",
   "execution_count": 1,
   "metadata": {},
   "outputs": [],
   "source": [
    "from nltk.tokenize import RegexpTokenizer\n",
    "from nltk.stem.porter import PorterStemmer\n",
    "from gensim import corpora, models\n",
    "#from nltk.corpus import stopwords\n",
    "import stopword\n",
    "import gensim\n",
    "import matplotlib.pyplot as plt\n",
    "import matplotlib.patches as mpatches\n",
    "\n",
    "from sklearn.feature_extraction.text import CountVectorizer\n",
    "from sklearn.feature_extraction.text import TfidfVectorizer"
   ]
  },
  {
   "cell_type": "code",
   "execution_count": 2,
   "metadata": {},
   "outputs": [],
   "source": [
    "try:\n",
    "    plt.style.use('ggplot')\n",
    "except:\n",
    "    # version of matplotlib might not be recent\n",
    "    pass\n",
    "\n",
    "\n",
    "def remove_stopwords(text):\n",
    "    stop = stopword.allStopWords\n",
    "    \n",
    "    text=text.lower()\n",
    "    text=text.split()\n",
    "    newlist=[]\n",
    "    stop_list=[]\n",
    "    for i in stop:\n",
    "        stop_list.append(i)\n",
    "        \n",
    "    for i in range (0,len(stop_list)):\n",
    "        stop_list[i]=stop_list[i].lower()\n",
    "    \n",
    "    for i in text:\n",
    "        if i not in stop_list: \n",
    "            newlist.append(i)\n",
    "    s=\" \"\n",
    "    newlist=s.join(newlist)\n",
    "    \n",
    "    newlist=newlist.replace('------------------','\\n------------------\\n')\n",
    "    return newlist    \n",
    "\n",
    "tokenizer = RegexpTokenizer(r'\\w+')\n",
    "stop = stopword.allStopWords\n",
    "p_stemmer = PorterStemmer()\n",
    "\n"
   ]
  },
  {
   "cell_type": "code",
   "execution_count": 3,
   "metadata": {},
   "outputs": [],
   "source": [
    "f1=open('business1.txt')\n",
    "business=f1.read()\n",
    "#business=remove_stopwords(business)\n",
    "f2=open('entertainment1.txt')\n",
    "entertainment=f2.read()\n",
    "#entertainment=remove_stopwords(entertainment)\n",
    "f3=open('politics1.txt')\n",
    "politics=f3.read()\n",
    "#politics=remove_stopwords(politics)\n",
    "f4=open('sport1.txt')\n",
    "sport=f4.read()\n",
    "#sport=remove_stopwords(sport)\n",
    "f5=open('tech1.txt')\n",
    "tech=f5.read()\n",
    "#tech=remove_stopwords(tech)"
   ]
  },
  {
   "cell_type": "code",
   "execution_count": 4,
   "metadata": {},
   "outputs": [
    {
     "name": "stdout",
     "output_type": "stream",
     "text": [
      "Sm =  <class 'scipy.sparse.csr.csr_matrix'>\n"
     ]
    }
   ],
   "source": [
    "sen = [business,entertainment,politics,sport,tech]\n",
    "vec = CountVectorizer()\n",
    "vec.fit_transform(sen)\n",
    "sm = vec.transform(sen) \n",
    "print (\"Sm = \",type(sm))   \n",
    "doc_set = [business,entertainment,politics,sport,tech]\n",
    "#doc_set=[business]\n",
    "#doc_set=[mix]\n",
    "texts = []\n",
    "for i in doc_set:\n",
    "    tokens = tokenizer.tokenize(i)\n",
    "    stemmed_tokens = [p_stemmer.stem(i) for i in tokens]\n",
    "    texts.append(stemmed_tokens)\n"
   ]
  },
  {
   "cell_type": "code",
   "execution_count": 5,
   "metadata": {},
   "outputs": [
    {
     "name": "stdout",
     "output_type": "stream",
     "text": [
      "#######\n",
      "Topics Discovered In Training data :\n",
      "\n",
      "(0, '0.009*\"use\" + 0.008*\"peopl\" + 0.008*\"game\" + 0.007*\"can\" + 0.005*\"technolog\" + 0.005*\"mobil\" + 0.005*\"phone\" + 0.005*\"mr\" + 0.004*\"servic\" + 0.004*\"user\"')\n",
      "(1, '0.007*\"game\" + 0.006*\"play\" + 0.006*\"win\" + 0.005*\"t\" + 0.005*\"time\" + 0.005*\"first\" + 0.005*\"player\" + 0.005*\"england\" + 0.005*\"against\" + 0.004*\"back\"')\n",
      "(2, '0.006*\"compani\" + 0.006*\"mr\" + 0.006*\"firm\" + 0.006*\"market\" + 0.005*\"bank\" + 0.004*\"sale\" + 0.004*\"share\" + 0.004*\"price\" + 0.004*\"growth\" + 0.004*\"economi\"')\n",
      "(3, '0.011*\"mr\" + 0.006*\"film\" + 0.005*\"peopl\" + 0.004*\"govern\" + 0.004*\"say\" + 0.004*\"labour\" + 0.004*\"parti\" + 0.004*\"elect\" + 0.004*\"best\" + 0.003*\"blair\"')\n",
      "(4, '0.002*\"mr\" + 0.001*\"time\" + 0.001*\"peopl\" + 0.001*\"t\" + 0.001*\"show\" + 0.001*\"film\" + 0.001*\"last\" + 0.001*\"use\" + 0.001*\"say\" + 0.001*\"game\"')\n",
      "#######\n",
      "\n",
      "\n",
      "Detected Topics : \n",
      "\n",
      "\n",
      "Topic :  (1, '0.007*\"game\" + 0.006*\"play\" + 0.006*\"win\" + 0.005*\"t\" + 0.005*\"time\" + 0.005*\"first\" + 0.005*\"player\" + 0.005*\"england\" + 0.005*\"against\" + 0.004*\"back\"')\n",
      "Probability :  0.9899876\n",
      "\n",
      "\n",
      "\n"
     ]
    },
    {
     "data": {
      "image/png": "[encoded data removed]",
      "text/plain": [
       "<Figure size 432x288 with 1 Axes>"
      ]
     },
     "metadata": {},
     "output_type": "display_data"
    }
   ],
   "source": [
    "dictionary = corpora.Dictionary(texts)\n",
    "corpus = [dictionary.doc2bow(text) for text in texts]\n",
    "\n",
    "#### Enter No. Of Topics in numt variable\n",
    "numt=5\n",
    "########################################\n",
    "\n",
    "ldamodel = gensim.models.ldamodel.LdaModel(corpus, num_topics=numt, id2word = dictionary, passes=10)\n",
    "print ('#######')\n",
    "print ('Topics Discovered In Training data :\\n')\n",
    "topi=ldamodel.print_topics(num_topics=numt,num_words=10)\n",
    "for i in topi:\n",
    "    print (i)\n",
    "print ('#######')\n",
    "\n",
    "test_string='''claxton hunting first major medal british hurdler sarah claxton confident can win first major medal next month european indoor championships madrid old already smashed british record hurdles twice season setting mark seconds win aaas title quite confident claxton take race comes long keep training much think chance medal claxton won national hurdles title past three years struggled translate domestic success international stage now scotland born athlete owns equal fifth fastest time world last week birmingham grand prix claxton left european medal favourite russian irina shevchenko trailing sixth spot first time claxton preparing campaign hurdles explain leap form previous seasons old contested long jump since moving colchester london re focused attentions claxton see training regime pays dividends european indoors take place march'''\n",
    "test_string=test_string.lower()\n",
    "topic_detect=ldamodel[dictionary.doc2bow(test_string.split())]\n",
    "#print topic_detect\n",
    "#print '##'\n",
    "print ('\\n\\nDetected Topics : \\n\\n') \n",
    "for i in topic_detect:\n",
    "    index=i[0]\n",
    "    prob=i[1]\n",
    "    print ('Topic : ',topi[index])\n",
    "    print ('Probability : ',prob)\n",
    "    print ('\\n\\n')\n",
    "    \n",
    "probab=[]\n",
    "for i in range (0,numt):\n",
    "    probab.append(0)\n",
    "    \n",
    "for i in topic_detect:\n",
    "    probab[i[0]]=i[1]\n",
    "y =probab\n",
    "N = len(y)\n",
    "x = range(N)\n",
    "width = 1/1.5\n",
    "plt.bar(x, y, width, color=\"green\",align='center')\n",
    "axes = plt.gca()\n",
    "axes.set_ylim([0,1.5])\n",
    "top=[]\n",
    "\n",
    "legend=''\n",
    "legend_topic=topi\n",
    "legend_topic=list(legend_topic)\n",
    "for i in range (0,len(legend_topic)):\n",
    "    legend_topic[i]=list(legend_topic[i])\n",
    "\n",
    "for i in legend_topic:\n",
    "    for j in i[1]:\n",
    "        if j.isalpha() == False and j!='+':\n",
    "            i[1]=i[1].replace(j,'')\n",
    "        if j=='+':\n",
    "            i[1]=i[1].replace(j,',')\n",
    "for i in range(0,numt):\n",
    "    legend=legend+'Topic-'+str(i)+'. '+legend_topic[i][1]+'\\n' \n",
    "\n",
    "red_patch= mpatches.Patch(color='gray', label=legend)\n",
    "plt.legend(handles=[red_patch])\n",
    "plt.show()\n"
   ]
  },
  {
   "cell_type": "code",
   "execution_count": null,
   "metadata": {},
   "outputs": [],
   "source": []
  }
 ],
 "metadata": {
  "kernelspec": {
   "display_name": "Python 3",
   "language": "python",
   "name": "python3"
  },
  "language_info": {
   "codemirror_mode": {
    "name": "ipython",
    "version": 3
   },
   "file_extension": ".py",
   "mimetype": "text/x-python",
   "name": "python",
   "nbconvert_exporter": "python",
   "pygments_lexer": "ipython3",
   "version": "3.7.1"
  }
 },
 "nbformat": 4,
 "nbformat_minor": 2
}
